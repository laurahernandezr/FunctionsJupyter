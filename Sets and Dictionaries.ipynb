{
 "cells": [
  {
   "cell_type": "markdown",
   "metadata": {},
   "source": [
    "# Sets and Dictionaries"
   ]
  },
  {
   "cell_type": "markdown",
   "metadata": {},
   "source": [
    "A set is a container of unrepeated values in no specific order. "
   ]
  },
  {
   "cell_type": "code",
   "execution_count": 4,
   "metadata": {},
   "outputs": [
    {
     "name": "stdout",
     "output_type": "stream",
     "text": [
      "{'cake', 'pizza', 'burger'}\n"
     ]
    }
   ],
   "source": [
    "cafeteriaMenu = {\"pizza\", \"burger\", \"cake\"}\n",
    "print(cafeteriaMenu)"
   ]
  },
  {
   "cell_type": "markdown",
   "metadata": {},
   "source": [
    "Sets are mutable, meaning we can add or remove elements"
   ]
  },
  {
   "cell_type": "code",
   "execution_count": 5,
   "metadata": {},
   "outputs": [
    {
     "name": "stdout",
     "output_type": "stream",
     "text": [
      "{'burrito', 'cake', 'pizza', 'burger'}\n"
     ]
    }
   ],
   "source": [
    "cafeteriaMenu.add(\"burrito\")\n",
    "print(cafeteriaMenu)"
   ]
  },
  {
   "cell_type": "code",
   "execution_count": 6,
   "metadata": {},
   "outputs": [
    {
     "name": "stdout",
     "output_type": "stream",
     "text": [
      "{'burrito', 'pizza', 'burger'}\n"
     ]
    }
   ],
   "source": [
    "cafeteriaMenu.remove(\"cake\")\n",
    "print(cafeteriaMenu)"
   ]
  },
  {
   "cell_type": "markdown",
   "metadata": {},
   "source": [
    "To loop through the items using a for loop "
   ]
  },
  {
   "cell_type": "code",
   "execution_count": 7,
   "metadata": {},
   "outputs": [
    {
     "name": "stdout",
     "output_type": "stream",
     "text": [
      "burrito\n",
      "pizza\n",
      "burger\n"
     ]
    }
   ],
   "source": [
    "for food in cafeteriaMenu:\n",
    "    print(food)"
   ]
  },
  {
   "cell_type": "markdown",
   "metadata": {},
   "source": [
    "Or you can search for a particular item using the *in* operator"
   ]
  },
  {
   "cell_type": "code",
   "execution_count": 9,
   "metadata": {},
   "outputs": [
    {
     "name": "stdout",
     "output_type": "stream",
     "text": [
      "there is pizza in the menu!\n"
     ]
    }
   ],
   "source": [
    "if (\"pizza\") in cafeteriaMenu:\n",
    "    print(\"there is pizza in the menu!\")"
   ]
  },
  {
   "cell_type": "markdown",
   "metadata": {},
   "source": [
    "Or you can use the issubset() to find if the items are part of the initial set"
   ]
  },
  {
   "cell_type": "code",
   "execution_count": 10,
   "metadata": {},
   "outputs": [
    {
     "name": "stdout",
     "output_type": "stream",
     "text": [
      "Don't eat here everyday\n"
     ]
    }
   ],
   "source": [
    "cafeteriaMenu = {\"pizza\", \"burger\", \"cake\"}\n",
    "fastFood = {\"pizza\", \"burger\"}\n",
    "if fastFood.issubset(cafeteriaMenu):\n",
    "    print(\"Don't eat here everyday\")"
   ]
  },
  {
   "cell_type": "markdown",
   "metadata": {},
   "source": [
    "We can also use different functions, like *.union()* to get all the elements in boths sets. "
   ]
  },
  {
   "cell_type": "code",
   "execution_count": 11,
   "metadata": {},
   "outputs": [
    {
     "name": "stdout",
     "output_type": "stream",
     "text": [
      "{'temaki', 'tonkatsu', 'sushi', 'pizza', 'burger'}\n"
     ]
    }
   ],
   "source": [
    "cafeteriaMenu = {\"pizza\", \"burger\", \"cake\"}\n",
    "japaneseFood = {\"sushi\", \"temaki\",\"tonkatsu\"}\n",
    "print(japaneseFood.union(fastFood))"
   ]
  },
  {
   "cell_type": "markdown",
   "metadata": {},
   "source": [
    "We can get the common elements using *intersection()*"
   ]
  },
  {
   "cell_type": "code",
   "execution_count": 13,
   "metadata": {},
   "outputs": [
    {
     "data": {
      "text/plain": [
       "{'burger', 'pizza'}"
      ]
     },
     "execution_count": 13,
     "metadata": {},
     "output_type": "execute_result"
    }
   ],
   "source": [
    "cafeteriaMenu = {\"pizza\", \"burger\", \"cake\"}\n",
    "fastFood = {\"pizza\", \"burger\"}\n",
    "fastFood.intersection(cafeteriaMenu)"
   ]
  },
  {
   "cell_type": "markdown",
   "metadata": {},
   "source": [
    "or what is in the first set but not the second using *difference()*"
   ]
  },
  {
   "cell_type": "code",
   "execution_count": 14,
   "metadata": {},
   "outputs": [
    {
     "data": {
      "text/plain": [
       "{'burrito'}"
      ]
     },
     "execution_count": 14,
     "metadata": {},
     "output_type": "execute_result"
    }
   ],
   "source": [
    "cafeteriaMenu = {\"pizza\", \"burger\", \"cake\"}\n",
    "fastFood = {\"pizza\", \"burger\"}\n",
    "cafeteriaMenu.difference(fastFood)"
   ]
  },
  {
   "cell_type": "markdown",
   "metadata": {},
   "source": [
    "# Dictionaries"
   ]
  },
  {
   "cell_type": "markdown",
   "metadata": {},
   "source": [
    "Dictionaries are containers that contain relations between two elements, called keys and values.\n",
    "\n",
    "Keys are unique, but values may be used for different keys.\n",
    "Imagine, a key can only open one door, but things behind it could be behind different doors with different keys. \n",
    "\n",
    "Other analogy are functions, where one input should always give you one output, but one output can be for different functions \n",
    "e.g\n",
    "functions y=x^2 and y=2x:\n",
    "y should always equal 4 if the input is 2 in y = 2x, but 4 can be the output for both functions x^2 and 2x. "
   ]
  },
  {
   "cell_type": "code",
   "execution_count": 25,
   "metadata": {},
   "outputs": [],
   "source": [
    "#to create an empty dictionary:\n",
    "cellphoneOwners = {}\n",
    "\n",
    "#to create a dictionary, we go Key:Value\n",
    "cellphoneOwners = {\"Jack\":\"OnePlus\", \"Annie\":\"Galaxy\", \"Zac\":\"IPhone\", \"Roy\":\"IPhone\"}"
   ]
  },
  {
   "cell_type": "markdown",
   "metadata": {},
   "source": [
    "We can add or modify values like we do with lists in the format\n",
    "DictionaryName[Key] = Value"
   ]
  },
  {
   "cell_type": "code",
   "execution_count": 18,
   "metadata": {},
   "outputs": [
    {
     "name": "stdout",
     "output_type": "stream",
     "text": [
      "{'Jack': 'OnePlus', 'Annie': 'Pixel', 'Zac': 'IPhone', 'Roy': 'IPhone', 'John': 'Note'}\n"
     ]
    }
   ],
   "source": [
    "cellphoneOwners[\"Annie\"] = \"Pixel\"\n",
    "cellphoneOwners[\"John\"] = \"Note\"\n",
    "print(cellphoneOwners)"
   ]
  },
  {
   "cell_type": "markdown",
   "metadata": {},
   "source": [
    "we can access elements in a similar way:"
   ]
  },
  {
   "cell_type": "code",
   "execution_count": 19,
   "metadata": {},
   "outputs": [
    {
     "name": "stdout",
     "output_type": "stream",
     "text": [
      "Pixel\n"
     ]
    }
   ],
   "source": [
    "print(cellphoneOwners[\"Annie\"])"
   ]
  },
  {
   "cell_type": "markdown",
   "metadata": {},
   "source": [
    "and we can remove an element (both key and value) using pop. "
   ]
  },
  {
   "cell_type": "code",
   "execution_count": 20,
   "metadata": {},
   "outputs": [
    {
     "name": "stdout",
     "output_type": "stream",
     "text": [
      "{'Jack': 'OnePlus', 'Annie': 'Pixel', 'Zac': 'IPhone', 'John': 'Note'}\n"
     ]
    }
   ],
   "source": [
    "#we use the key\n",
    "cellphoneOwners.pop(\"Roy\")\n",
    "print(cellphoneOwners)"
   ]
  },
  {
   "cell_type": "markdown",
   "metadata": {},
   "source": [
    "The *in* operator is also useful in Dictionaries"
   ]
  },
  {
   "cell_type": "code",
   "execution_count": 27,
   "metadata": {},
   "outputs": [
    {
     "name": "stdout",
     "output_type": "stream",
     "text": [
      "Jack has a phone\n"
     ]
    }
   ],
   "source": [
    "#for checking if keys are present in the Dictionary:\n",
    "if \"Jack\" in cellphoneOwners:\n",
    "    print(\"Jack has a phone\")"
   ]
  },
  {
   "cell_type": "code",
   "execution_count": 28,
   "metadata": {},
   "outputs": [
    {
     "name": "stdout",
     "output_type": "stream",
     "text": [
      "Jack OnePlus\n",
      "Annie Galaxy\n",
      "Zac IPhone\n",
      "Roy IPhone\n"
     ]
    }
   ],
   "source": [
    "#to traverse the dictionary:\n",
    "for key in cellphoneOwners:\n",
    "    print(key, cellphoneOwners[key])"
   ]
  },
  {
   "cell_type": "code",
   "execution_count": 29,
   "metadata": {},
   "outputs": [
    {
     "name": "stdout",
     "output_type": "stream",
     "text": [
      "Annie Galaxy\n",
      "Jack OnePlus\n",
      "Roy IPhone\n",
      "Zac IPhone\n"
     ]
    }
   ],
   "source": [
    "#we can even sort them by Keys\n",
    "\n",
    "for key in sorted(cellphoneOwners):\n",
    "    print(key, cellphoneOwners[key])"
   ]
  },
  {
   "cell_type": "markdown",
   "metadata": {},
   "source": [
    "    Remember sets *need to have inmutable elements inside*, so no sets, lists or dictionaries. \n",
    "\n",
    "    Dictionaries *can* be made out of sets!"
   ]
  },
  {
   "cell_type": "markdown",
   "metadata": {},
   "source": [
    "# Nesting:"
   ]
  },
  {
   "cell_type": "markdown",
   "metadata": {},
   "source": [
    "Now we can put containers inside of containers!\n",
    "We can have a List of Dictionaries:"
   ]
  },
  {
   "cell_type": "code",
   "execution_count": 4,
   "metadata": {},
   "outputs": [
    {
     "name": "stdout",
     "output_type": "stream",
     "text": [
      "{'color': 'Green', 'points': 5}\n",
      "{'color': 'Yellow', 'points': 10}\n",
      "{'color': 'Red', 'points': 15}\n"
     ]
    }
   ],
   "source": [
    "#we have three different dictionaries that store linked values\n",
    "alien_0 = {\"color\":\"Green\", \"points\": 5}\n",
    "alien_1 = {\"color\":\"Yellow\", \"points\": 10}\n",
    "alien_2 = {\"color\":\"Red\", \"points\": 15}\n",
    "    \n",
    "#we can create a list that will store this dictionaries\n",
    "aliens = [alien_0, alien_1, alien_2]\n",
    "\n",
    "for alien in aliens:\n",
    "    print(alien)\n"
   ]
  },
  {
   "cell_type": "markdown",
   "metadata": {},
   "source": [
    "Or a Dictionary of Lists:"
   ]
  },
  {
   "cell_type": "code",
   "execution_count": 6,
   "metadata": {},
   "outputs": [
    {
     "name": "stdout",
     "output_type": "stream",
     "text": [
      "{'crust': 'thick', 'toppings': ['mushrooms', 'extra cheese']}\n"
     ]
    }
   ],
   "source": [
    "#we have a dictionary of a pizza with a list of toppings\n",
    "pizza = {\n",
    "    \"crust\" : \"thick\",\n",
    "    \"toppings\":[\"mushrooms\", \"extra cheese\"]\n",
    "}\n",
    "print(pizza)"
   ]
  },
  {
   "cell_type": "markdown",
   "metadata": {},
   "source": [
    "You can uset *items()* to create a list with pairs of tuples that will contain (key, value) so you can traverse through the Dictionary items"
   ]
  },
  {
   "cell_type": "code",
   "execution_count": 24,
   "metadata": {},
   "outputs": [
    {
     "name": "stdout",
     "output_type": "stream",
     "text": [
      "Value : dict_items([('Name', 'Zara'), ('Age', 7)])\n"
     ]
    }
   ],
   "source": [
    "dict = {'Name': 'Zara', 'Age': 7}\n",
    "print(\"Value : %s\" %  dict.items())"
   ]
  },
  {
   "cell_type": "markdown",
   "metadata": {},
   "source": [
    "or even a Dictionary of Dictionaries!"
   ]
  },
  {
   "cell_type": "code",
   "execution_count": 42,
   "metadata": {},
   "outputs": [
    {
     "name": "stdout",
     "output_type": "stream",
     "text": [
      "Username: aeinstein\n",
      "fullname: Albert Einstein\n",
      "location: Santa Barbara City College\n",
      "\n",
      "Username: mcurie\n",
      "fullname: Marie Curie\n",
      "location: Santa Barbara City College\n",
      "\n"
     ]
    }
   ],
   "source": [
    "users = {\n",
    "    \"aeinstein\" :{\n",
    "        \"first\":\"Albert\",\n",
    "        \"last\":\"Einstein\",\n",
    "        \"location\": \"Santa Barbara City College\"\n",
    "    },\n",
    "    \"mcurie\" : {\n",
    "        \"first\":\"Marie\",\n",
    "        \"last\" :\"Curie\",\n",
    "        \"location\": \"Santa Barbara City College\"\n",
    "    }\n",
    "}\n",
    "\n",
    "#calling users.items() will create a list of tupples that looks likes this:\n",
    "'''\n",
    "dict_items([('aeinstein', {'first': 'Albert', 'last': 'Einstein', 'location': 'Santa Barbara City College'}), ('mcurie', {'firts': 'Marie', 'last': 'Curie', 'location': 'Santa Barbara City College'})])\n",
    "'''\n",
    "#we can use this to taverse through the dicionaries and get the values:\n",
    "\n",
    "for username, user_info in users.items():\n",
    "    print(\"Username: \" + username +\n",
    "    \"\\nfullname: \"+ user_info[\"first\"] + \" \" + user_info[\"last\"] + \"\\nlocation: \" + user_info[\"location\"] + \"\\n\")\n",
    "    \n",
    "    \n",
    "    \n",
    "    \n",
    "    "
   ]
  }
 ],
 "metadata": {
  "kernelspec": {
   "display_name": "Python 3",
   "language": "python",
   "name": "python3"
  },
  "language_info": {
   "codemirror_mode": {
    "name": "ipython",
    "version": 3
   },
   "file_extension": ".py",
   "mimetype": "text/x-python",
   "name": "python",
   "nbconvert_exporter": "python",
   "pygments_lexer": "ipython3",
   "version": "3.7.0"
  }
 },
 "nbformat": 4,
 "nbformat_minor": 2
}

{
 "cells": [
  {
   "cell_type": "markdown",
   "metadata": {},
   "source": [
    "# Lists"
   ]
  },
  {
   "cell_type": "markdown",
   "metadata": {},
   "source": [
    "A list is a container that can store elements in order. "
   ]
  },
  {
   "cell_type": "code",
   "execution_count": 49,
   "metadata": {},
   "outputs": [
    {
     "name": "stdout",
     "output_type": "stream",
     "text": [
      "['bmw', 'audi', 'tesla', 'toyota', 'subaru']\n"
     ]
    }
   ],
   "source": [
    "cars = [\"bmw\", \"audi\", \"tesla\",\"toyota\",\"subaru\"]\n",
    "print(cars)"
   ]
  },
  {
   "cell_type": "code",
   "execution_count": null,
   "metadata": {},
   "outputs": [],
   "source": [
    "prime_numbers = [1, 2, 3, 5, 7]"
   ]
  },
  {
   "cell_type": "markdown",
   "metadata": {},
   "source": [
    "To access an element in the array, we specify the index with \"[]\" and like strings, the index starts at 0:"
   ]
  },
  {
   "cell_type": "code",
   "execution_count": 5,
   "metadata": {},
   "outputs": [
    {
     "name": "stdout",
     "output_type": "stream",
     "text": [
      "tesla\n"
     ]
    }
   ],
   "source": [
    "print(cars[2])"
   ]
  },
  {
   "cell_type": "markdown",
   "metadata": {},
   "source": [
    "To tranverse through a list, we use loops:"
   ]
  },
  {
   "cell_type": "code",
   "execution_count": 6,
   "metadata": {},
   "outputs": [
    {
     "name": "stdout",
     "output_type": "stream",
     "text": [
      "bmw\n",
      "audi\n",
      "tesla\n",
      "toyota\n",
      "subaru\n"
     ]
    }
   ],
   "source": [
    "# i will be the index and will go from 0 to the length of the list\n",
    "for i in range(0, len(cars)):\n",
    "    print(cars[i])"
   ]
  },
  {
   "cell_type": "code",
   "execution_count": 7,
   "metadata": {},
   "outputs": [
    {
     "name": "stdout",
     "output_type": "stream",
     "text": [
      "bmw\n",
      "audi\n",
      "tesla\n",
      "toyota\n",
      "subaru\n"
     ]
    }
   ],
   "source": [
    "# type will be the *element* in the list cars\n",
    "for type in cars:\n",
    "    print(type)"
   ]
  },
  {
   "cell_type": "markdown",
   "metadata": {},
   "source": [
    "So what is the cool thing about lists? the are mutable! meaning you can change what it inside of them."
   ]
  },
  {
   "cell_type": "code",
   "execution_count": 50,
   "metadata": {},
   "outputs": [
    {
     "name": "stdout",
     "output_type": "stream",
     "text": [
      "['bmw', 'audi', 'tesla', 'toyota', 'subaru']\n",
      "['bmw', 'audi', 'tesla', 'toyota', 'chevy']\n"
     ]
    }
   ],
   "source": [
    "print(cars)\n",
    "cars[4] = \"chevy\"\n",
    "print(cars)"
   ]
  },
  {
   "cell_type": "markdown",
   "metadata": {},
   "source": [
    "But what if I want a list of things but I don't want them to be moved?\n",
    "Tupples!"
   ]
  },
  {
   "cell_type": "code",
   "execution_count": 17,
   "metadata": {},
   "outputs": [],
   "source": [
    "#Tupples are like lists, but instead of [], we us () or nothing\n",
    "primes = (1,2,3,5,7)\n",
    "primes = 1,2,3,5,7,11"
   ]
  },
  {
   "cell_type": "code",
   "execution_count": 13,
   "metadata": {},
   "outputs": [
    {
     "ename": "SyntaxError",
     "evalue": "can't assign to function call (<ipython-input-13-01ae6ce2338b>, line 1)",
     "output_type": "error",
     "traceback": [
      "\u001b[0;36m  File \u001b[0;32m\"<ipython-input-13-01ae6ce2338b>\"\u001b[0;36m, line \u001b[0;32m1\u001b[0m\n\u001b[0;31m    primes(0) = 4\u001b[0m\n\u001b[0m                 ^\u001b[0m\n\u001b[0;31mSyntaxError\u001b[0m\u001b[0;31m:\u001b[0m can't assign to function call\n"
     ]
    }
   ],
   "source": [
    "primes(0) = 4"
   ]
  },
  {
   "cell_type": "markdown",
   "metadata": {},
   "source": [
    "We can also access lists the way around:"
   ]
  },
  {
   "cell_type": "code",
   "execution_count": 14,
   "metadata": {},
   "outputs": [
    {
     "name": "stdout",
     "output_type": "stream",
     "text": [
      "chevy\n"
     ]
    }
   ],
   "source": [
    "#this will print the last element\n",
    "print(cars[-1])"
   ]
  },
  {
   "cell_type": "markdown",
   "metadata": {},
   "source": [
    "List have *references* meaning that they can have different variables pointing to the location of the same value:"
   ]
  },
  {
   "cell_type": "code",
   "execution_count": 15,
   "metadata": {},
   "outputs": [
    {
     "name": "stdout",
     "output_type": "stream",
     "text": [
      "tesla\n",
      "tesla\n"
     ]
    }
   ],
   "source": [
    "myFavoriteCar = cars[2]\n",
    "theOnlyBrandInSpace = cars[2]\n",
    "print(myFavoriteCar)\n",
    "print(theOnlyBrandInSpace)"
   ]
  },
  {
   "cell_type": "markdown",
   "metadata": {},
   "source": [
    "both \"theOnlyBrandInSpace\" and \"MyFavoriteCar\" are references to cars[2] "
   ]
  },
  {
   "cell_type": "markdown",
   "metadata": {},
   "source": [
    "    What other operations does List have?"
   ]
  },
  {
   "cell_type": "code",
   "execution_count": 51,
   "metadata": {},
   "outputs": [
    {
     "name": "stdout",
     "output_type": "stream",
     "text": [
      "['bmw', 'audi', 'tesla', 'toyota', 'chevy', 'Lexus']\n"
     ]
    }
   ],
   "source": [
    "#we can add values to the end of the list:\n",
    "cars.append(\"Lexus\")\n",
    "print(cars)"
   ]
  },
  {
   "cell_type": "code",
   "execution_count": 52,
   "metadata": {},
   "outputs": [
    {
     "name": "stdout",
     "output_type": "stream",
     "text": [
      "['bmw', 'audi', 'tesla', 'RAM', 'toyota', 'chevy', 'Lexus']\n"
     ]
    }
   ],
   "source": [
    "#we can insert in a specific index:\n",
    "cars.insert(3,\"RAM\")\n",
    "print(cars)"
   ]
  },
  {
   "cell_type": "code",
   "execution_count": 53,
   "metadata": {},
   "outputs": [
    {
     "name": "stdout",
     "output_type": "stream",
     "text": [
      "['bmw', 'audi', 'tesla', 'RAM', 'toyota', 'Lexus']\n"
     ]
    }
   ],
   "source": [
    "#we can remove an element in a specific index\n",
    "cars.pop(5)\n",
    "print(cars)"
   ]
  },
  {
   "cell_type": "code",
   "execution_count": 54,
   "metadata": {},
   "outputs": [
    {
     "name": "stdout",
     "output_type": "stream",
     "text": [
      "['bmw', 'audi', 'tesla', 'toyota', 'Lexus']\n"
     ]
    }
   ],
   "source": [
    "#or remove a specific element\n",
    "cars.remove(\"RAM\")\n",
    "print(cars)"
   ]
  },
  {
   "cell_type": "code",
   "execution_count": 21,
   "metadata": {},
   "outputs": [
    {
     "name": "stdout",
     "output_type": "stream",
     "text": [
      "['H', 'e', 'l', 'l', 'o']\n"
     ]
    }
   ],
   "source": [
    "#we can cast things into lists so we can copy them\n",
    "helloCharsList = []\n",
    "helloCharsList = list(\"Hello\")\n",
    "print(helloCharsList)"
   ]
  },
  {
   "cell_type": "markdown",
   "metadata": {},
   "source": [
    "    We also have operations:"
   ]
  },
  {
   "cell_type": "code",
   "execution_count": 23,
   "metadata": {},
   "outputs": [
    {
     "data": {
      "text/plain": [
       "29"
      ]
     },
     "execution_count": 23,
     "metadata": {},
     "output_type": "execute_result"
    }
   ],
   "source": [
    "#we can get sums\n",
    "sum(primes)"
   ]
  },
  {
   "cell_type": "code",
   "execution_count": 24,
   "metadata": {},
   "outputs": [
    {
     "data": {
      "text/plain": [
       "11"
      ]
     },
     "execution_count": 24,
     "metadata": {},
     "output_type": "execute_result"
    }
   ],
   "source": [
    "#the maximum value\n",
    "max(primes)"
   ]
  },
  {
   "cell_type": "code",
   "execution_count": 25,
   "metadata": {},
   "outputs": [
    {
     "data": {
      "text/plain": [
       "1"
      ]
     },
     "execution_count": 25,
     "metadata": {},
     "output_type": "execute_result"
    }
   ],
   "source": [
    "#the minimum value\n",
    "min(primes)"
   ]
  },
  {
   "cell_type": "code",
   "execution_count": 29,
   "metadata": {},
   "outputs": [
    {
     "name": "stdout",
     "output_type": "stream",
     "text": [
      "[1, 2, 3, 5, 7, 9, 11]\n"
     ]
    }
   ],
   "source": [
    "#or even sort the elements!\n",
    "primes = [2,5,9,7,1,11,3]\n",
    "primes.sort()\n",
    "print(primes)"
   ]
  },
  {
   "cell_type": "code",
   "execution_count": 30,
   "metadata": {},
   "outputs": [
    {
     "name": "stdout",
     "output_type": "stream",
     "text": [
      "[5, 7, 9]\n"
     ]
    }
   ],
   "source": [
    "#we can also take only some slices of a list\n",
    "myFavoritePrimes = primes[3:6] #don't forget starts at 0 and the last number is not counted\n",
    "print(myFavoritePrimes)"
   ]
  },
  {
   "cell_type": "markdown",
   "metadata": {},
   "source": [
    "We can use lists in functions! This becomes useful when you want to return more than one variable:"
   ]
  },
  {
   "cell_type": "code",
   "execution_count": 38,
   "metadata": {},
   "outputs": [
    {
     "name": "stdout",
     "output_type": "stream",
     "text": [
      "The oldest person is 85 years old\n"
     ]
    }
   ],
   "source": [
    "def max(values):\n",
    "    max = values[0]\n",
    "    for i in range(0, len(values)):\n",
    "        if(max< values[i]):\n",
    "            max = values[i]\n",
    "    return max\n",
    "\n",
    "ages = [17,85,23,45,10,3]\n",
    "print(\"The oldest person is \" + str(max(ages))+ \" years old\")"
   ]
  },
  {
   "cell_type": "code",
   "execution_count": 39,
   "metadata": {},
   "outputs": [
    {
     "name": "stdout",
     "output_type": "stream",
     "text": [
      "[2, 4, 6, 8]\n"
     ]
    }
   ],
   "source": [
    "def evenNumbers(values):\n",
    "    evenNumberList = []\n",
    "    for i in range(0, len(values)):\n",
    "        if (values[i]%2 == 0):\n",
    "            evenNumberList.append(values[i])\n",
    "    return evenNumberList\n",
    "numbers = [1,2,3,4,5,6,7,8,9]\n",
    "print(evenNumbers(numbers))"
   ]
  }
 ],
 "metadata": {
  "kernelspec": {
   "display_name": "Python 3",
   "language": "python",
   "name": "python3"
  },
  "language_info": {
   "codemirror_mode": {
    "name": "ipython",
    "version": 3
   },
   "file_extension": ".py",
   "mimetype": "text/x-python",
   "name": "python",
   "nbconvert_exporter": "python",
   "pygments_lexer": "ipython3",
   "version": "3.7.0"
  }
 },
 "nbformat": 4,
 "nbformat_minor": 2
}

{
 "cells": [
  {
   "cell_type": "markdown",
   "metadata": {},
   "source": [
    "# Classes and Objects"
   ]
  },
  {
   "cell_type": "markdown",
   "metadata": {},
   "source": [
    "The Class describes Objects with the same behavior.\n",
    "\n",
    "We can model almost anything with classes, for example we can have a class of a Dog, not a specific Dog but any Dog.\n",
    "\n",
    "Dogs have things in common, like a name and age, and they do similar things, like walk, sit and roll over.\n",
    "\n",
    "Imagine we are writing the class of a robot dog."
   ]
  },
  {
   "cell_type": "code",
   "execution_count": 28,
   "metadata": {},
   "outputs": [],
   "source": [
    "#Class of the robot dog, so we can make different \n",
    "#robot dogs in the future.\n",
    "class Dog:\n",
    "    def __init__(self,name,age):\n",
    "        #we have the contructor that will create the robot dog\n",
    "        #we can remember it by remembering that init comes from initialization.\n",
    "        self.name = name\n",
    "        self.age = age\n",
    "    def sit(self):\n",
    "        #method that makes the robot dog sit\n",
    "        print(self.name + \" is now sitting.\")\n",
    "    def roll_over(self):\n",
    "        #method that makes the robot dog roll over\n",
    "        print(self.name + \" rolled over!\")"
   ]
  },
  {
   "cell_type": "markdown",
   "metadata": {},
   "source": [
    "The name of the class is Dog, and should be capitalized.\n",
    "Now we can create different objects from this class, this means we can create different robot dogs out of our blueprint (Class)"
   ]
  },
  {
   "cell_type": "code",
   "execution_count": 32,
   "metadata": {},
   "outputs": [
    {
     "name": "stdout",
     "output_type": "stream",
     "text": [
      "Tommy is now sitting.\n",
      "Tommy rolled over!\n"
     ]
    }
   ],
   "source": [
    "#my_dog = self\n",
    "#Tommy = name\n",
    "#11= age\n",
    "my_dog = Dog(\"Tommy\",11)\n",
    "\n",
    "#make Tommy  sit:\n",
    "my_dog.sit()\n",
    "\n",
    "#make my dog roll over:\n",
    "my_dog.roll_over()\n"
   ]
  },
  {
   "cell_type": "code",
   "execution_count": 17,
   "metadata": {},
   "outputs": [
    {
     "name": "stdout",
     "output_type": "stream",
     "text": [
      "Lucy is now sitting.\n",
      "Lucy rolled over!\n"
     ]
    }
   ],
   "source": [
    "your_dog = Dog(\"Lucy\",6)\n",
    "\n",
    "#make Lucy  sit:\n",
    "your_dog.sit()\n",
    "\n",
    "#make Lucy roll over:\n",
    "your_dog.roll_over()"
   ]
  },
  {
   "cell_type": "markdown",
   "metadata": {},
   "source": [
    "Methods are functions that belong to a class.\n",
    "As programmers, we like to classify them.\n",
    "One of the classifications is the constructor (__init__)\n",
    "\n",
    "We also have *accessors* that we use to access data. (we also call them getters)\n",
    "\n",
    "And *mutators* that mutate or change data. (we also call the setters)"
   ]
  },
  {
   "cell_type": "code",
   "execution_count": 35,
   "metadata": {},
   "outputs": [
    {
     "name": "stdout",
     "output_type": "stream",
     "text": [
      "Tommy is now sitting.\n",
      "Tommy rolled over!\n"
     ]
    }
   ],
   "source": [
    "#Class of the robot dog, so we can make different \n",
    "#robot dogs in the future.\n",
    "class Dog:\n",
    "    def __init__(self,name,age):\n",
    "        #we have the contructor that will create the robot dog\n",
    "        #we can remember it by remembering that init comes from initialization.\n",
    "        self.name = name\n",
    "        self.age = age\n",
    "    def sit(self):\n",
    "        #method that makes the robot dog sit\n",
    "        print(self.name + \" is now sitting.\")\n",
    "    def roll_over(self):\n",
    "        #method that makes the robot dog roll over\n",
    "        print(self.name + \" rolled over!\")\n",
    "    def get_name(self):\n",
    "        return self.name\n",
    "    def set_name(self, name):\n",
    "        self.name = name\n",
    "    def get_age(self):\n",
    "        return self.age\n",
    "    def set_age(self,age):\n",
    "        self.age = age\n",
    "\n",
    "#my_dog = self\n",
    "#Tommy = name\n",
    "#11= age\n",
    "my_dog = Dog(\"Tommy\",11)\n",
    "\n",
    "#make Tommy  sit:\n",
    "my_dog.sit()\n",
    "\n",
    "#make my dog roll over:\n",
    "my_dog.roll_over()\n"
   ]
  },
  {
   "cell_type": "markdown",
   "metadata": {},
   "source": [
    "Now we can get and set the name and age of our robot dogs!"
   ]
  },
  {
   "cell_type": "code",
   "execution_count": 37,
   "metadata": {},
   "outputs": [
    {
     "name": "stdout",
     "output_type": "stream",
     "text": [
      "My dog's name is: Little Baby\n",
      "But I prefer to call him Little Baby\n"
     ]
    }
   ],
   "source": [
    "print(\"My dog's name is: \" + my_dog.get_name())\n",
    "my_dog.set_name(\"Little Baby\")\n",
    "print(\"But I prefer to call him \" + my_dog.get_name())"
   ]
  },
  {
   "cell_type": "markdown",
   "metadata": {},
   "source": [
    "Creating accessors and mutators is normally a type of *Encapsulation*, also called *Information Hiding*. We don't want people accessing or changing whatever data they want, \n",
    "\n",
    "so we give them the tools to do it in the way WE AS PROGRAMMERS want them to do it. \n",
    "\n",
    "Creating a way for people to interact with out classes is called creating a *Public Interface*"
   ]
  }
 ],
 "metadata": {
  "kernelspec": {
   "display_name": "Python 3",
   "language": "python",
   "name": "python3"
  },
  "language_info": {
   "codemirror_mode": {
    "name": "ipython",
    "version": 3
   },
   "file_extension": ".py",
   "mimetype": "text/x-python",
   "name": "python",
   "nbconvert_exporter": "python",
   "pygments_lexer": "ipython3",
   "version": "3.7.0"
  }
 },
 "nbformat": 4,
 "nbformat_minor": 2
}
